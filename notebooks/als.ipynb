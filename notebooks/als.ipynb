{
 "cells": [
  {
   "cell_type": "code",
   "execution_count": 20,
   "metadata": {
    "execution": {
     "iopub.execute_input": "2024-12-01T13:39:35.755600Z",
     "iopub.status.busy": "2024-12-01T13:39:35.754844Z",
     "iopub.status.idle": "2024-12-01T13:39:35.760529Z",
     "shell.execute_reply": "2024-12-01T13:39:35.759507Z",
     "shell.execute_reply.started": "2024-12-01T13:39:35.755566Z"
    },
    "trusted": true
   },
   "outputs": [],
   "source": [
    "from pandas import read_csv,concat\n",
    "from sklearn.preprocessing import LabelEncoder\n",
    "from pyspark.sql import SparkSession\n",
    "from pyspark.ml.recommendation import ALS\n",
    "from pyspark.sql import Row\n"
   ]
  },
  {
   "cell_type": "code",
   "execution_count": 6,
   "metadata": {
    "execution": {
     "iopub.execute_input": "2024-12-01T13:26:37.479594Z",
     "iopub.status.busy": "2024-12-01T13:26:37.479147Z",
     "iopub.status.idle": "2024-12-01T13:27:21.413692Z",
     "shell.execute_reply": "2024-12-01T13:27:21.412187Z",
     "shell.execute_reply.started": "2024-12-01T13:26:37.479564Z"
    },
    "trusted": true
   },
   "outputs": [],
   "source": [
    "ratings_df= read_csv(\"/kaggle/input/myanimelist-dataset/user-filtered.csv\")\n"
   ]
  },
  {
   "cell_type": "code",
   "execution_count": 7,
   "metadata": {
    "execution": {
     "iopub.execute_input": "2024-12-01T13:27:21.416202Z",
     "iopub.status.busy": "2024-12-01T13:27:21.415709Z",
     "iopub.status.idle": "2024-12-01T13:27:22.901737Z",
     "shell.execute_reply": "2024-12-01T13:27:22.900446Z",
     "shell.execute_reply.started": "2024-12-01T13:27:21.416155Z"
    },
    "trusted": true
   },
   "outputs": [],
   "source": [
    "N_USERS = 30000\n",
    "rating_df = ratings_df[ratings_df['rating'] != -1]\n",
    "rating_df = rating_df[rating_df[\"user_id\"]<=N_USERS]\n"
   ]
  },
  {
   "cell_type": "code",
   "execution_count": 8,
   "metadata": {
    "execution": {
     "iopub.execute_input": "2024-12-01T13:27:22.903805Z",
     "iopub.status.busy": "2024-12-01T13:27:22.903268Z",
     "iopub.status.idle": "2024-12-01T13:31:08.771637Z",
     "shell.execute_reply": "2024-12-01T13:31:08.770360Z",
     "shell.execute_reply.started": "2024-12-01T13:27:22.903755Z"
    },
    "trusted": true
   },
   "outputs": [
    {
     "name": "stderr",
     "output_type": "stream",
     "text": [
      "Setting default log level to \"WARN\".\n",
      "To adjust logging level use sc.setLogLevel(newLevel). For SparkR, use setLogLevel(newLevel).\n",
      "24/12/01 13:27:26 WARN NativeCodeLoader: Unable to load native-hadoop library for your platform... using builtin-java classes where applicable\n"
     ]
    }
   ],
   "source": [
    "# Créer une session Spark\n",
    "spark = SparkSession.builder \\\n",
    "    .appName(\"AnimeRecommendation\") \\\n",
    "    .getOrCreate()\n",
    "\n",
    "# Étape 1 : Charger les données dans Spark DataFrame\n",
    "# Convertir le DataFrame pandas en DataFrame Spark\n",
    "rating_df_spark = spark.createDataFrame(\n",
    "rating_df[['user_id', 'anime_id', 'rating']].values.tolist(),  # Convertir en liste de listes\n",
    "    schema=[\"user_id\", \"anime_id\", \"rating\"]  )"
   ]
  },
  {
   "cell_type": "code",
   "execution_count": 9,
   "metadata": {
    "execution": {
     "iopub.execute_input": "2024-12-01T13:31:08.774866Z",
     "iopub.status.busy": "2024-12-01T13:31:08.773767Z",
     "iopub.status.idle": "2024-12-01T13:31:16.956396Z",
     "shell.execute_reply": "2024-12-01T13:31:16.955476Z",
     "shell.execute_reply.started": "2024-12-01T13:31:08.774813Z"
    },
    "trusted": true
   },
   "outputs": [
    {
     "name": "stderr",
     "output_type": "stream",
     "text": [
      "24/12/01 13:31:10 WARN TaskSetManager: Stage 0 contains a task of very large size (22288 KiB). The maximum recommended task size is 1000 KiB.\n",
      "24/12/01 13:31:15 WARN PythonRunner: Detected deadlock while completing task 0.0 in stage 0 (TID 0): Attempting to kill Python Worker\n",
      "                                                                                \r"
     ]
    },
    {
     "name": "stdout",
     "output_type": "stream",
     "text": [
      "+-------+--------+------+\n",
      "|user_id|anime_id|rating|\n",
      "+-------+--------+------+\n",
      "|      0|      67|     9|\n",
      "|      0|    6702|     7|\n",
      "|      0|     242|    10|\n",
      "|      0|    4898|     0|\n",
      "|      0|      21|    10|\n",
      "|      0|      24|     9|\n",
      "|      0|    2104|     0|\n",
      "|      0|    4722|     8|\n",
      "|      0|    6098|     6|\n",
      "|      0|    3125|     9|\n",
      "|      0|     481|    10|\n",
      "|      0|      68|     6|\n",
      "|      0|    1689|     6|\n",
      "|      0|    2913|     6|\n",
      "|      0|    1250|     7|\n",
      "|      0|     356|     9|\n",
      "|      0|     121|     9|\n",
      "|      0|     430|     9|\n",
      "|      0|    1829|     7|\n",
      "|      0|    1571|    10|\n",
      "+-------+--------+------+\n",
      "only showing top 20 rows\n",
      "\n"
     ]
    }
   ],
   "source": [
    "rating_df_spark.show()"
   ]
  },
  {
   "cell_type": "code",
   "execution_count": 10,
   "metadata": {
    "execution": {
     "iopub.execute_input": "2024-12-01T13:31:16.958575Z",
     "iopub.status.busy": "2024-12-01T13:31:16.958120Z",
     "iopub.status.idle": "2024-12-01T13:32:16.899175Z",
     "shell.execute_reply": "2024-12-01T13:32:16.897901Z",
     "shell.execute_reply.started": "2024-12-01T13:31:16.958528Z"
    },
    "trusted": true
   },
   "outputs": [
    {
     "name": "stderr",
     "output_type": "stream",
     "text": [
      "24/12/01 13:31:17 WARN TaskSetManager: Stage 1 contains a task of very large size (22288 KiB). The maximum recommended task size is 1000 KiB.\n",
      "24/12/01 13:31:21 WARN PythonRunner: Detected deadlock while completing task 0.0 in stage 1 (TID 1): Attempting to kill Python Worker\n",
      "24/12/01 13:31:21 WARN TaskSetManager: Stage 2 contains a task of very large size (22288 KiB). The maximum recommended task size is 1000 KiB.\n",
      "24/12/01 13:31:44 WARN InstanceBuilder: Failed to load implementation from:dev.ludovic.netlib.blas.JNIBLAS\n",
      "                                                                                \r"
     ]
    }
   ],
   "source": [
    "# Étape 2 : Configurer le modèle ALS\n",
    "als = ALS(\n",
    "    userCol=\"user_id\",\n",
    "    itemCol=\"anime_id\",\n",
    "    ratingCol=\"rating\",\n",
    "    nonnegative=True,              # Assurer que les prédictions sont positives\n",
    "    implicitPrefs=False,           # On utilise des notes explicites\n",
    "    coldStartStrategy=\"drop\"       # Supprimer les prédictions sur données inconnues\n",
    ")\n",
    "\n",
    "# Étape 3 : Entraîner le modèle\n",
    "model = als.fit(rating_df_spark)\n",
    "\n"
   ]
  },
  {
   "cell_type": "code",
   "execution_count": 11,
   "metadata": {
    "execution": {
     "iopub.execute_input": "2024-12-01T13:32:16.903848Z",
     "iopub.status.busy": "2024-12-01T13:32:16.903092Z",
     "iopub.status.idle": "2024-12-01T13:32:34.316905Z",
     "shell.execute_reply": "2024-12-01T13:32:34.315808Z",
     "shell.execute_reply.started": "2024-12-01T13:32:16.903799Z"
    },
    "trusted": true
   },
   "outputs": [
    {
     "name": "stderr",
     "output_type": "stream",
     "text": [
      "[Stage 78:======================================================>(99 + 1) / 100]\r"
     ]
    },
    {
     "name": "stdout",
     "output_type": "stream",
     "text": [
      "+-------+--------------------+\n",
      "|user_id|     recommendations|\n",
      "+-------+--------------------+\n",
      "|      1|[{38524, 10.45463...|\n",
      "|     12|[{36638, 5.058947...|\n",
      "|     13|[{35674, 8.479095...|\n",
      "|     22|[{42061, 14.45782...|\n",
      "|     26|[{130, 0.0}, {124...|\n",
      "|     27|[{35674, 8.917957...|\n",
      "|     28|[{33600, 10.59284...|\n",
      "|     31|[{33787, 6.564821...|\n",
      "|     34|[{30071, 11.32690...|\n",
      "|     44|[{18137, 8.790296...|\n",
      "|     47|[{2904, 7.529252}...|\n",
      "|     52|[{37531, 9.8969},...|\n",
      "|     53|[{29585, 8.274739...|\n",
      "|     65|[{18137, 10.54983...|\n",
      "|     78|[{22477, 9.6513},...|\n",
      "|     81|[{36638, 10.72236...|\n",
      "|     85|[{9253, 8.261945}...|\n",
      "|     91|[{38378, 10.67032...|\n",
      "|     93|[{42438, 9.884198...|\n",
      "|    101|[{30071, 8.845506...|\n",
      "+-------+--------------------+\n",
      "only showing top 20 rows\n",
      "\n"
     ]
    },
    {
     "name": "stderr",
     "output_type": "stream",
     "text": [
      "                                                                                \r"
     ]
    }
   ],
   "source": [
    "# Étape 4 : Générer des recommandations pour tous les utilisateurs\n",
    "user_recommendations = model.recommendForAllUsers(10)  # Top 10 recommandations\n",
    "user_recommendations.show()"
   ]
  },
  {
   "cell_type": "code",
   "execution_count": 12,
   "metadata": {
    "execution": {
     "iopub.execute_input": "2024-12-01T13:32:34.319555Z",
     "iopub.status.busy": "2024-12-01T13:32:34.318659Z",
     "iopub.status.idle": "2024-12-01T13:32:46.115846Z",
     "shell.execute_reply": "2024-12-01T13:32:46.114826Z",
     "shell.execute_reply.started": "2024-12-01T13:32:34.319507Z"
    },
    "trusted": true
   },
   "outputs": [
    {
     "name": "stderr",
     "output_type": "stream",
     "text": [
      "[Stage 127:=====================================================>(99 + 1) / 100]\r"
     ]
    },
    {
     "name": "stdout",
     "output_type": "stream",
     "text": [
      "+--------+--------------------+\n",
      "|anime_id|     recommendations|\n",
      "+--------+--------------------+\n",
      "|       1|[{13532, 25.42809...|\n",
      "|      22|[{2724, 18.686178...|\n",
      "|      26|[{13532, 14.49771...|\n",
      "|      27|[{2724, 12.716168...|\n",
      "|      28|[{2724, 20.63881}...|\n",
      "|      31|[{13532, 20.75611...|\n",
      "|      44|[{13532, 17.85351...|\n",
      "|      47|[{13532, 20.79097...|\n",
      "|      52|[{2724, 16.945698...|\n",
      "|      53|[{13532, 14.83919...|\n",
      "|      65|[{13532, 13.03653...|\n",
      "|      76|[{2724, 15.964684...|\n",
      "|      81|[{2724, 15.596314...|\n",
      "|      85|[{2724, 18.527826...|\n",
      "|      91|[{13532, 15.20029...|\n",
      "|      93|[{2724, 16.526283...|\n",
      "|     101|[{13532, 16.06302...|\n",
      "|     103|[{2724, 19.268835...|\n",
      "|     108|[{2724, 13.70275}...|\n",
      "|     111|[{2724, 20.898369...|\n",
      "+--------+--------------------+\n",
      "only showing top 20 rows\n",
      "\n"
     ]
    },
    {
     "name": "stderr",
     "output_type": "stream",
     "text": [
      "                                                                                \r"
     ]
    }
   ],
   "source": [
    "# Étape 5 : Générer des recommandations pour tous les animes\n",
    "anime_recommendations = model.recommendForAllItems(10)  # Top 10 utilisateurs pour chaque anime\n",
    "anime_recommendations.show()"
   ]
  },
  {
   "cell_type": "code",
   "execution_count": 13,
   "metadata": {
    "execution": {
     "iopub.execute_input": "2024-12-01T13:32:46.117572Z",
     "iopub.status.busy": "2024-12-01T13:32:46.117021Z",
     "iopub.status.idle": "2024-12-01T13:32:52.615139Z",
     "shell.execute_reply": "2024-12-01T13:32:52.614005Z",
     "shell.execute_reply.started": "2024-12-01T13:32:46.117523Z"
    },
    "trusted": true
   },
   "outputs": [
    {
     "name": "stderr",
     "output_type": "stream",
     "text": [
      "24/12/01 13:32:46 WARN TaskSetManager: Stage 177 contains a task of very large size (22288 KiB). The maximum recommended task size is 1000 KiB.\n",
      "                                                                                \r"
     ]
    },
    {
     "name": "stdout",
     "output_type": "stream",
     "text": [
      "+-------+--------------------+\n",
      "|user_id|     recommendations|\n",
      "+-------+--------------------+\n",
      "|    123|[{42061, 13.14247...|\n",
      "+-------+--------------------+\n",
      "\n"
     ]
    }
   ],
   "source": [
    "# Étape 6 : Recommandations pour un utilisateur spécifique\n",
    "user_id_to_recommend = 123  # ID de l'utilisateur\n",
    "user_subset = rating_df_spark.filter(rating_df_spark.user_id == user_id_to_recommend)\n",
    "recommendations = model.recommendForUserSubset(user_subset, 5)  # Top 5 recommandations\n",
    "recommendations.show()\n"
   ]
  },
  {
   "cell_type": "code",
   "execution_count": 17,
   "metadata": {
    "execution": {
     "iopub.execute_input": "2024-12-01T13:38:11.044405Z",
     "iopub.status.busy": "2024-12-01T13:38:11.043363Z",
     "iopub.status.idle": "2024-12-01T13:38:11.149445Z",
     "shell.execute_reply": "2024-12-01T13:38:11.148132Z",
     "shell.execute_reply.started": "2024-12-01T13:38:11.044365Z"
    },
    "trusted": true
   },
   "outputs": [],
   "source": [
    "rec=(recommendations.toPandas().values)[0][1]"
   ]
  },
  {
   "cell_type": "code",
   "execution_count": null,
   "metadata": {
    "trusted": true
   },
   "outputs": [],
   "source": []
  },
  {
   "cell_type": "code",
   "execution_count": 15,
   "metadata": {
    "execution": {
     "iopub.execute_input": "2024-12-01T13:32:58.065735Z",
     "iopub.status.busy": "2024-12-01T13:32:58.065284Z",
     "iopub.status.idle": "2024-12-01T13:32:58.693511Z",
     "shell.execute_reply": "2024-12-01T13:32:58.692522Z",
     "shell.execute_reply.started": "2024-12-01T13:32:58.065688Z"
    },
    "trusted": true
   },
   "outputs": [],
   "source": [
    "anime_df = read_csv(\"/kaggle/input/myanimelist-dataset/anime-dataset-2023.csv\")\n"
   ]
  },
  {
   "cell_type": "code",
   "execution_count": 21,
   "metadata": {
    "execution": {
     "iopub.execute_input": "2024-12-01T13:39:42.696997Z",
     "iopub.status.busy": "2024-12-01T13:39:42.696030Z",
     "iopub.status.idle": "2024-12-01T13:39:42.815296Z",
     "shell.execute_reply": "2024-12-01T13:39:42.814341Z",
     "shell.execute_reply.started": "2024-12-01T13:39:42.696958Z"
    },
    "trusted": true
   },
   "outputs": [
    {
     "data": {
      "text/html": [
       "<div>\n",
       "<style scoped>\n",
       "    .dataframe tbody tr th:only-of-type {\n",
       "        vertical-align: middle;\n",
       "    }\n",
       "\n",
       "    .dataframe tbody tr th {\n",
       "        vertical-align: top;\n",
       "    }\n",
       "\n",
       "    .dataframe thead th {\n",
       "        text-align: right;\n",
       "    }\n",
       "</style>\n",
       "<table border=\"1\" class=\"dataframe\">\n",
       "  <thead>\n",
       "    <tr style=\"text-align: right;\">\n",
       "      <th></th>\n",
       "      <th>anime_id</th>\n",
       "      <th>Name</th>\n",
       "      <th>English name</th>\n",
       "      <th>Other name</th>\n",
       "      <th>Score</th>\n",
       "      <th>Genres</th>\n",
       "      <th>Synopsis</th>\n",
       "      <th>Type</th>\n",
       "      <th>Episodes</th>\n",
       "      <th>Aired</th>\n",
       "      <th>...</th>\n",
       "      <th>Studios</th>\n",
       "      <th>Source</th>\n",
       "      <th>Duration</th>\n",
       "      <th>Rating</th>\n",
       "      <th>Rank</th>\n",
       "      <th>Popularity</th>\n",
       "      <th>Favorites</th>\n",
       "      <th>Scored By</th>\n",
       "      <th>Members</th>\n",
       "      <th>Image URL</th>\n",
       "    </tr>\n",
       "  </thead>\n",
       "  <tbody>\n",
       "    <tr>\n",
       "      <th>0</th>\n",
       "      <td>42061</td>\n",
       "      <td>Ichiman</td>\n",
       "      <td>UNKNOWN</td>\n",
       "      <td>イチマン</td>\n",
       "      <td>UNKNOWN</td>\n",
       "      <td>Comedy</td>\n",
       "      <td>Web commercials for Livesense's online part-ti...</td>\n",
       "      <td>ONA</td>\n",
       "      <td>18.0</td>\n",
       "      <td>Jul 29, 2019 to Aug 28, 2019</td>\n",
       "      <td>...</td>\n",
       "      <td>UNKNOWN</td>\n",
       "      <td>Original</td>\n",
       "      <td>7 sec per ep</td>\n",
       "      <td>G - All Ages</td>\n",
       "      <td>16696.0</td>\n",
       "      <td>18776</td>\n",
       "      <td>0</td>\n",
       "      <td>UNKNOWN</td>\n",
       "      <td>204</td>\n",
       "      <td>https://cdn.myanimelist.net/images/anime/1694/...</td>\n",
       "    </tr>\n",
       "    <tr>\n",
       "      <th>1</th>\n",
       "      <td>35674</td>\n",
       "      <td>Jumbagi: Hanbandoui gongryong 3D</td>\n",
       "      <td>Speckles the Tarbosaurus</td>\n",
       "      <td>점박이: 한반도의 공룡 3D</td>\n",
       "      <td>UNKNOWN</td>\n",
       "      <td>Adventure, Drama</td>\n",
       "      <td>70 million years ago dinosaurs ruled the Korea...</td>\n",
       "      <td>Movie</td>\n",
       "      <td>1.0</td>\n",
       "      <td>Jan 26, 2012</td>\n",
       "      <td>...</td>\n",
       "      <td>UNKNOWN</td>\n",
       "      <td>Unknown</td>\n",
       "      <td>1 hr 28 min</td>\n",
       "      <td>G - All Ages</td>\n",
       "      <td>17000.0</td>\n",
       "      <td>18313</td>\n",
       "      <td>0</td>\n",
       "      <td>UNKNOWN</td>\n",
       "      <td>233</td>\n",
       "      <td>https://cdn.myanimelist.net/images/anime/9/860...</td>\n",
       "    </tr>\n",
       "    <tr>\n",
       "      <th>2</th>\n",
       "      <td>36620</td>\n",
       "      <td>Nintama Rantarou: Saraba Ninjutsu Gakuen no Dan</td>\n",
       "      <td>UNKNOWN</td>\n",
       "      <td>忍たま乱太郎 さらば 忍術学園 の段</td>\n",
       "      <td>UNKNOWN</td>\n",
       "      <td>Comedy</td>\n",
       "      <td>Rantarou misunderstands an overheard comment f...</td>\n",
       "      <td>Special</td>\n",
       "      <td>2.0</td>\n",
       "      <td>Oct 30, 2017 to Oct 31, 2017</td>\n",
       "      <td>...</td>\n",
       "      <td>Ajia-do</td>\n",
       "      <td>Unknown</td>\n",
       "      <td>20 min per ep</td>\n",
       "      <td>G - All Ages</td>\n",
       "      <td>18538.0</td>\n",
       "      <td>16716</td>\n",
       "      <td>0</td>\n",
       "      <td>UNKNOWN</td>\n",
       "      <td>338</td>\n",
       "      <td>https://cdn.myanimelist.net/images/anime/10/88...</td>\n",
       "    </tr>\n",
       "    <tr>\n",
       "      <th>3</th>\n",
       "      <td>39767</td>\n",
       "      <td>Mao Yao de Huo Han</td>\n",
       "      <td>Love Story of Cat Spirit</td>\n",
       "      <td>猫妖的诱惑</td>\n",
       "      <td>6.62</td>\n",
       "      <td>Fantasy, Romance</td>\n",
       "      <td>A cat demon with a split personality is reinca...</td>\n",
       "      <td>ONA</td>\n",
       "      <td>20.0</td>\n",
       "      <td>Dec 21, 2018 to Jun 13, 2019</td>\n",
       "      <td>...</td>\n",
       "      <td>Rocen</td>\n",
       "      <td>Web manga</td>\n",
       "      <td>17 min per ep</td>\n",
       "      <td>PG-13 - Teens 13 or older</td>\n",
       "      <td>5741.0</td>\n",
       "      <td>13133</td>\n",
       "      <td>10</td>\n",
       "      <td>240.0</td>\n",
       "      <td>860</td>\n",
       "      <td>https://cdn.myanimelist.net/images/anime/1863/...</td>\n",
       "    </tr>\n",
       "    <tr>\n",
       "      <th>4</th>\n",
       "      <td>7175</td>\n",
       "      <td>Himitsukessha Taka no Tsume Countdown</td>\n",
       "      <td>UNKNOWN</td>\n",
       "      <td>秘密結社 鷹の爪 カウントダウン</td>\n",
       "      <td>5.65</td>\n",
       "      <td>Comedy</td>\n",
       "      <td>The second season of Eagle Talon.</td>\n",
       "      <td>TV</td>\n",
       "      <td>11.0</td>\n",
       "      <td>Oct 7, 2009 to Dec 23, 2009</td>\n",
       "      <td>...</td>\n",
       "      <td>DLE</td>\n",
       "      <td>Unknown</td>\n",
       "      <td>11 min per ep</td>\n",
       "      <td>PG-13 - Teens 13 or older</td>\n",
       "      <td>10296.0</td>\n",
       "      <td>13972</td>\n",
       "      <td>0</td>\n",
       "      <td>152.0</td>\n",
       "      <td>659</td>\n",
       "      <td>https://cdn.myanimelist.net/images/anime/9/827...</td>\n",
       "    </tr>\n",
       "  </tbody>\n",
       "</table>\n",
       "<p>5 rows × 24 columns</p>\n",
       "</div>"
      ],
      "text/plain": [
       "   anime_id                                             Name  \\\n",
       "0     42061                                          Ichiman   \n",
       "1     35674                 Jumbagi: Hanbandoui gongryong 3D   \n",
       "2     36620  Nintama Rantarou: Saraba Ninjutsu Gakuen no Dan   \n",
       "3     39767                               Mao Yao de Huo Han   \n",
       "4      7175            Himitsukessha Taka no Tsume Countdown   \n",
       "\n",
       "               English name          Other name    Score            Genres  \\\n",
       "0                   UNKNOWN                イチマン  UNKNOWN            Comedy   \n",
       "1  Speckles the Tarbosaurus     점박이: 한반도의 공룡 3D  UNKNOWN  Adventure, Drama   \n",
       "2                   UNKNOWN  忍たま乱太郎 さらば 忍術学園 の段  UNKNOWN            Comedy   \n",
       "3  Love Story of Cat Spirit               猫妖的诱惑     6.62  Fantasy, Romance   \n",
       "4                   UNKNOWN    秘密結社 鷹の爪 カウントダウン     5.65            Comedy   \n",
       "\n",
       "                                            Synopsis     Type Episodes  \\\n",
       "0  Web commercials for Livesense's online part-ti...      ONA     18.0   \n",
       "1  70 million years ago dinosaurs ruled the Korea...    Movie      1.0   \n",
       "2  Rantarou misunderstands an overheard comment f...  Special      2.0   \n",
       "3  A cat demon with a split personality is reinca...      ONA     20.0   \n",
       "4                  The second season of Eagle Talon.       TV     11.0   \n",
       "\n",
       "                          Aired  ...  Studios     Source       Duration  \\\n",
       "0  Jul 29, 2019 to Aug 28, 2019  ...  UNKNOWN   Original   7 sec per ep   \n",
       "1                  Jan 26, 2012  ...  UNKNOWN    Unknown    1 hr 28 min   \n",
       "2  Oct 30, 2017 to Oct 31, 2017  ...  Ajia-do    Unknown  20 min per ep   \n",
       "3  Dec 21, 2018 to Jun 13, 2019  ...    Rocen  Web manga  17 min per ep   \n",
       "4   Oct 7, 2009 to Dec 23, 2009  ...      DLE    Unknown  11 min per ep   \n",
       "\n",
       "                      Rating     Rank Popularity Favorites Scored By Members  \\\n",
       "0               G - All Ages  16696.0      18776         0   UNKNOWN     204   \n",
       "1               G - All Ages  17000.0      18313         0   UNKNOWN     233   \n",
       "2               G - All Ages  18538.0      16716         0   UNKNOWN     338   \n",
       "3  PG-13 - Teens 13 or older   5741.0      13133        10     240.0     860   \n",
       "4  PG-13 - Teens 13 or older  10296.0      13972         0     152.0     659   \n",
       "\n",
       "                                           Image URL  \n",
       "0  https://cdn.myanimelist.net/images/anime/1694/...  \n",
       "1  https://cdn.myanimelist.net/images/anime/9/860...  \n",
       "2  https://cdn.myanimelist.net/images/anime/10/88...  \n",
       "3  https://cdn.myanimelist.net/images/anime/1863/...  \n",
       "4  https://cdn.myanimelist.net/images/anime/9/827...  \n",
       "\n",
       "[5 rows x 24 columns]"
      ]
     },
     "execution_count": 21,
     "metadata": {},
     "output_type": "execute_result"
    }
   ],
   "source": [
    "import pandas as pd\n",
    "\n",
    "def idsToInfos(recommentations):\n",
    "    id_rating_list=[tuple(x) for x in (recommendations.toPandas().values)[0][1]]\n",
    "    # Créer une liste vide pour stocker les DataFrames filtrés\n",
    "    filtered_data = []\n",
    "    \n",
    "    # Appliquer le filtre pour chaque tuple (anime_id, rating)\n",
    "    for anime_id, rating in id_rating_list:\n",
    "        filtered_data.append(anime_df[(anime_df[\"anime_id\"] == anime_id)])\n",
    "    \n",
    "    # Combiner tous les DataFrames filtrés avec pd.concat()\n",
    "    result_df = concat(filtered_data, ignore_index=True)\n",
    "    \n",
    "    return result_df\n",
    "idsToInfos(recommendations)\n"
   ]
  },
  {
   "cell_type": "code",
   "execution_count": 29,
   "metadata": {
    "execution": {
     "iopub.execute_input": "2024-12-01T13:52:04.851955Z",
     "iopub.status.busy": "2024-12-01T13:52:04.850941Z",
     "iopub.status.idle": "2024-12-01T13:52:05.700817Z",
     "shell.execute_reply": "2024-12-01T13:52:05.699674Z",
     "shell.execute_reply.started": "2024-12-01T13:52:04.851908Z"
    },
    "trusted": true
   },
   "outputs": [],
   "source": [
    "model.save(\"/kaggle/output/model\")"
   ]
  }
 ],
 "metadata": {
  "kaggle": {
   "accelerator": "none",
   "dataSources": [
    {
     "datasetId": 571,
     "sourceId": 1094,
     "sourceType": "datasetVersion"
    },
    {
     "datasetId": 3384322,
     "sourceId": 6207733,
     "sourceType": "datasetVersion"
    }
   ],
   "dockerImageVersionId": 30786,
   "isGpuEnabled": false,
   "isInternetEnabled": true,
   "language": "python",
   "sourceType": "notebook"
  },
  "kernelspec": {
   "display_name": "Python 3",
   "language": "python",
   "name": "python3"
  },
  "language_info": {
   "codemirror_mode": {
    "name": "ipython",
    "version": 3
   },
   "file_extension": ".py",
   "mimetype": "text/x-python",
   "name": "python",
   "nbconvert_exporter": "python",
   "pygments_lexer": "ipython3",
   "version": "3.10.14"
  }
 },
 "nbformat": 4,
 "nbformat_minor": 4
}
